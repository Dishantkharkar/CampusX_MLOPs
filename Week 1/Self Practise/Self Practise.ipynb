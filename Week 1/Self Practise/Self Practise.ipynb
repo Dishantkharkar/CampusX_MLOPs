{
 "cells": [
  {
   "cell_type": "code",
   "execution_count": null,
   "id": "e9b12dcc-f97c-4b4f-a1e5-3799aa614674",
   "metadata": {},
   "outputs": [],
   "source": []
  }
 ],
 "metadata": {
  "kernelspec": {
   "display_name": "Python 3 (ipykernel)",
   "language": "python",
   "name": "python3"
  },
  "language_info": {
   "codemirror_mode": {
    "name": "ipython",
    "version": 3
   },
   "file_extension": ".py",
   "mimetype": "text/x-python",
   "name": "python",
   "nbconvert_exporter": "python",
   "pygments_lexer": "ipython3",
   "version": "3.9.18"
  }
 },
 "nbformat": 4,
 "nbformat_minor": 5
}
